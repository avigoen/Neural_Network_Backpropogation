{
 "cells": [
  {
   "cell_type": "code",
   "execution_count": 49,
   "metadata": {},
   "outputs": [],
   "source": [
    "import numpy as np\n",
    "\n",
    "from constants import FLOAT_DTYPE, INT_DTYPE, EPOCHS\n",
    "from network import Network\n",
    "from dataset import get_2D_normalised\n",
    "from Layers import Dense, Relu, Softmax, Dropout, BatchNorm"
   ]
  },
  {
   "cell_type": "code",
   "execution_count": 50,
   "metadata": {},
   "outputs": [
    {
     "name": "stdout",
     "output_type": "stream",
     "text": [
      "The autoreload extension is already loaded. To reload it, use:\n",
      "  %reload_ext autoreload\n"
     ]
    }
   ],
   "source": [
    "%load_ext autoreload\n",
    "%autoreload 2"
   ]
  },
  {
   "cell_type": "code",
   "execution_count": 51,
   "metadata": {},
   "outputs": [],
   "source": [
    "(train_data, train_labels), (test_data, test_labels) = get_2D_normalised()"
   ]
  },
  {
   "cell_type": "code",
   "execution_count": 52,
   "metadata": {},
   "outputs": [],
   "source": [
    "# Convert labels to one-hot encoded vectors\n",
    "num_classes = 10\n",
    "train_labels_enc = np.eye(num_classes)[train_labels].reshape(-1, num_classes)\n",
    "test_labels_enc = np.eye(num_classes)[test_labels].reshape(-1, num_classes)"
   ]
  },
  {
   "cell_type": "code",
   "execution_count": 53,
   "metadata": {},
   "outputs": [],
   "source": [
    "# Create train and validation sets\n",
    "val_split = 0.2\n",
    "num_examples = train_data.shape[0]\n",
    "val_size = int(val_split * num_examples)\n",
    "train_size = num_examples - val_size\n",
    "\n",
    "x_train = FLOAT_DTYPE(train_data[:train_size])\n",
    "y_train = INT_DTYPE(train_labels_enc[:train_size])\n",
    "x_val = FLOAT_DTYPE(train_data[train_size:])\n",
    "y_val = INT_DTYPE(test_labels_enc[train_size:])"
   ]
  },
  {
   "cell_type": "code",
   "execution_count": 81,
   "metadata": {},
   "outputs": [],
   "source": [
    "model = Network()\n",
    "\n",
    "model.add(Dense(128))\n",
    "model.add(BatchNorm())\n",
    "model.add(Dropout(0.5))\n",
    "model.add(Relu())\n",
    "\n",
    "model.add(Dense(64))\n",
    "model.add(BatchNorm())\n",
    "model.add(Dropout(0.5))\n",
    "model.add(Relu())\n",
    "\n",
    "model.add(Dense(y_train.shape[1]))\n",
    "model.add(BatchNorm())\n",
    "model.add(Dropout(0.5))\n",
    "model.add(Softmax())"
   ]
  },
  {
   "cell_type": "code",
   "execution_count": 82,
   "metadata": {},
   "outputs": [],
   "source": [
    "model.compile(x_train.shape)"
   ]
  },
  {
   "cell_type": "code",
   "execution_count": 83,
   "metadata": {},
   "outputs": [
    {
     "name": "stdout",
     "output_type": "stream",
     "text": [
      "Epoch 1 / 100 in progress =========================================\n",
      "Epoch 1 Forward Propogation Started\n"
     ]
    },
    {
     "name": "stderr",
     "output_type": "stream",
     "text": [
      "100%|██████████| 12/12 [00:50<00:00,  4.19s/it]\n"
     ]
    },
    {
     "name": "stdout",
     "output_type": "stream",
     "text": [
      "Epoch 1 Forward Propogation Finished\n",
      "Epoch 1 Backward Propogation Started\n"
     ]
    },
    {
     "name": "stderr",
     "output_type": "stream",
     "text": [
      "  0%|          | 0/12 [00:00<?, ?it/s]C:\\Users\\avina\\AppData\\Roaming\\Python\\Python39\\site-packages\\numpy\\core\\fromnumeric.py:86: RuntimeWarning: overflow encountered in reduce\n",
      "  return ufunc.reduce(obj, axis, dtype, out, **passkwargs)\n",
      "C:\\Users\\avina\\AppData\\Roaming\\Python\\Python39\\site-packages\\numpy\\core\\fromnumeric.py:86: RuntimeWarning: invalid value encountered in reduce\n",
      "  return ufunc.reduce(obj, axis, dtype, out, **passkwargs)\n",
      "100%|██████████| 12/12 [01:54<00:00,  9.54s/it]\n"
     ]
    },
    {
     "name": "stdout",
     "output_type": "stream",
     "text": [
      "Epoch 1 Backward Propogation Finished\n",
      "ACCURACY: 0.0988, LOSS: 4.13671875, TIME: 164.92858600616455 sec\n",
      "Epoch 1 / 100 ends ================================================\n",
      "Epoch 2 / 100 in progress =========================================\n",
      "Epoch 2 Forward Propogation Started\n"
     ]
    },
    {
     "name": "stderr",
     "output_type": "stream",
     "text": [
      "  0%|          | 0/12 [00:00<?, ?it/s]d:\\JioInstitute\\Quarter-4\\ComputerVision\\Assignments\\Neural_Network_Backpropogation\\Layers\\denselayer.py:16: RuntimeWarning: invalid value encountered in add\n",
      "  Z_curr = dot_product_batches(self.input, self.weights) + self.bias\n",
      "100%|██████████| 12/12 [00:50<00:00,  4.17s/it]\n"
     ]
    },
    {
     "name": "stdout",
     "output_type": "stream",
     "text": [
      "Epoch 2 Forward Propogation Finished\n",
      "Epoch 2 Backward Propogation Started\n"
     ]
    },
    {
     "name": "stderr",
     "output_type": "stream",
     "text": [
      "100%|██████████| 12/12 [01:39<00:00,  8.31s/it]\n"
     ]
    },
    {
     "name": "stdout",
     "output_type": "stream",
     "text": [
      "Epoch 2 Backward Propogation Finished\n",
      "ACCURACY: 0.09965, LOSS: 1.0132789611816406e-06, TIME: 149.8403491973877 sec\n",
      "Epoch 2 / 100 ends ================================================\n",
      "Epoch 3 / 100 in progress =========================================\n",
      "Epoch 3 Forward Propogation Started\n"
     ]
    },
    {
     "name": "stderr",
     "output_type": "stream",
     "text": [
      "100%|██████████| 12/12 [00:42<00:00,  3.58s/it]\n"
     ]
    },
    {
     "name": "stdout",
     "output_type": "stream",
     "text": [
      "Epoch 3 Forward Propogation Finished\n",
      "Epoch 3 Backward Propogation Started\n"
     ]
    },
    {
     "name": "stderr",
     "output_type": "stream",
     "text": [
      "100%|██████████| 12/12 [01:38<00:00,  8.17s/it]\n"
     ]
    },
    {
     "name": "stdout",
     "output_type": "stream",
     "text": [
      "Epoch 3 Backward Propogation Finished\n",
      "ACCURACY: 0.09965, LOSS: 1.0132789611816406e-06, TIME: 141.11032843589783 sec\n",
      "Epoch 3 / 100 ends ================================================\n",
      "Epoch 4 / 100 in progress =========================================\n",
      "Epoch 4 Forward Propogation Started\n"
     ]
    },
    {
     "name": "stderr",
     "output_type": "stream",
     "text": [
      "100%|██████████| 12/12 [00:41<00:00,  3.49s/it]\n"
     ]
    },
    {
     "name": "stdout",
     "output_type": "stream",
     "text": [
      "Epoch 4 Forward Propogation Finished\n",
      "Epoch 4 Backward Propogation Started\n"
     ]
    },
    {
     "name": "stderr",
     "output_type": "stream",
     "text": [
      "100%|██████████| 12/12 [01:37<00:00,  8.09s/it]\n"
     ]
    },
    {
     "name": "stdout",
     "output_type": "stream",
     "text": [
      "Epoch 4 Backward Propogation Finished\n",
      "ACCURACY: 0.09965, LOSS: 1.0132789611816406e-06, TIME: 138.98240971565247 sec\n",
      "Epoch 4 / 100 ends ================================================\n",
      "Epoch 5 / 100 in progress =========================================\n",
      "Epoch 5 Forward Propogation Started\n"
     ]
    },
    {
     "name": "stderr",
     "output_type": "stream",
     "text": [
      "100%|██████████| 12/12 [00:41<00:00,  3.48s/it]\n"
     ]
    },
    {
     "name": "stdout",
     "output_type": "stream",
     "text": [
      "Epoch 5 Forward Propogation Finished\n",
      "Epoch 5 Backward Propogation Started\n"
     ]
    },
    {
     "name": "stderr",
     "output_type": "stream",
     "text": [
      "100%|██████████| 12/12 [01:36<00:00,  8.05s/it]\n"
     ]
    },
    {
     "name": "stdout",
     "output_type": "stream",
     "text": [
      "Epoch 5 Backward Propogation Finished\n",
      "ACCURACY: 0.09965, LOSS: 1.0132789611816406e-06, TIME: 138.49188947677612 sec\n",
      "Epoch 5 / 100 ends ================================================\n",
      "Epoch 6 / 100 in progress =========================================\n",
      "Epoch 6 Forward Propogation Started\n"
     ]
    },
    {
     "name": "stderr",
     "output_type": "stream",
     "text": [
      "100%|██████████| 12/12 [00:42<00:00,  3.54s/it]\n"
     ]
    },
    {
     "name": "stdout",
     "output_type": "stream",
     "text": [
      "Epoch 6 Forward Propogation Finished\n",
      "Epoch 6 Backward Propogation Started\n"
     ]
    },
    {
     "name": "stderr",
     "output_type": "stream",
     "text": [
      "100%|██████████| 12/12 [01:36<00:00,  8.06s/it]\n"
     ]
    },
    {
     "name": "stdout",
     "output_type": "stream",
     "text": [
      "Epoch 6 Backward Propogation Finished\n",
      "ACCURACY: 0.09965, LOSS: 1.0132789611816406e-06, TIME: 139.30610036849976 sec\n",
      "Epoch 6 / 100 ends ================================================\n",
      "Epoch 7 / 100 in progress =========================================\n",
      "Epoch 7 Forward Propogation Started\n"
     ]
    },
    {
     "name": "stderr",
     "output_type": "stream",
     "text": [
      "100%|██████████| 12/12 [00:41<00:00,  3.49s/it]\n"
     ]
    },
    {
     "name": "stdout",
     "output_type": "stream",
     "text": [
      "Epoch 7 Forward Propogation Finished\n",
      "Epoch 7 Backward Propogation Started\n"
     ]
    },
    {
     "name": "stderr",
     "output_type": "stream",
     "text": [
      "100%|██████████| 12/12 [01:37<00:00,  8.11s/it]\n"
     ]
    },
    {
     "name": "stdout",
     "output_type": "stream",
     "text": [
      "Epoch 7 Backward Propogation Finished\n",
      "ACCURACY: 0.09965, LOSS: 1.0132789611816406e-06, TIME: 139.238667011261 sec\n",
      "Epoch 7 / 100 ends ================================================\n",
      "Epoch 8 / 100 in progress =========================================\n",
      "Epoch 8 Forward Propogation Started\n"
     ]
    },
    {
     "name": "stderr",
     "output_type": "stream",
     "text": [
      "100%|██████████| 12/12 [00:42<00:00,  3.51s/it]\n"
     ]
    },
    {
     "name": "stdout",
     "output_type": "stream",
     "text": [
      "Epoch 8 Forward Propogation Finished\n",
      "Epoch 8 Backward Propogation Started\n"
     ]
    },
    {
     "name": "stderr",
     "output_type": "stream",
     "text": [
      "100%|██████████| 12/12 [01:37<00:00,  8.12s/it]\n"
     ]
    },
    {
     "name": "stdout",
     "output_type": "stream",
     "text": [
      "Epoch 8 Backward Propogation Finished\n",
      "ACCURACY: 0.09965, LOSS: 1.0132789611816406e-06, TIME: 139.6280906200409 sec\n",
      "Epoch 8 / 100 ends ================================================\n",
      "Epoch 9 / 100 in progress =========================================\n",
      "Epoch 9 Forward Propogation Started\n"
     ]
    },
    {
     "name": "stderr",
     "output_type": "stream",
     "text": [
      "100%|██████████| 12/12 [00:42<00:00,  3.51s/it]\n"
     ]
    },
    {
     "name": "stdout",
     "output_type": "stream",
     "text": [
      "Epoch 9 Forward Propogation Finished\n",
      "Epoch 9 Backward Propogation Started\n"
     ]
    },
    {
     "name": "stderr",
     "output_type": "stream",
     "text": [
      "100%|██████████| 12/12 [01:38<00:00,  8.18s/it]\n"
     ]
    },
    {
     "name": "stdout",
     "output_type": "stream",
     "text": [
      "Epoch 9 Backward Propogation Finished\n",
      "ACCURACY: 0.09965, LOSS: 1.0132789611816406e-06, TIME: 140.38536834716797 sec\n",
      "Epoch 9 / 100 ends ================================================\n",
      "Epoch 10 / 100 in progress =========================================\n",
      "Epoch 10 Forward Propogation Started\n"
     ]
    },
    {
     "name": "stderr",
     "output_type": "stream",
     "text": [
      "100%|██████████| 12/12 [00:42<00:00,  3.52s/it]\n"
     ]
    },
    {
     "name": "stdout",
     "output_type": "stream",
     "text": [
      "Epoch 10 Forward Propogation Finished\n",
      "Epoch 10 Backward Propogation Started\n"
     ]
    },
    {
     "name": "stderr",
     "output_type": "stream",
     "text": [
      "100%|██████████| 12/12 [01:37<00:00,  8.13s/it]\n"
     ]
    },
    {
     "name": "stdout",
     "output_type": "stream",
     "text": [
      "Epoch 10 Backward Propogation Finished\n",
      "ACCURACY: 0.09965, LOSS: 1.0132789611816406e-06, TIME: 139.89679551124573 sec\n",
      "Epoch 10 / 100 ends ================================================\n",
      "Epoch 11 / 100 in progress =========================================\n",
      "Epoch 11 Forward Propogation Started\n"
     ]
    },
    {
     "name": "stderr",
     "output_type": "stream",
     "text": [
      "100%|██████████| 12/12 [00:42<00:00,  3.52s/it]\n"
     ]
    },
    {
     "name": "stdout",
     "output_type": "stream",
     "text": [
      "Epoch 11 Forward Propogation Finished\n",
      "Epoch 11 Backward Propogation Started\n"
     ]
    },
    {
     "name": "stderr",
     "output_type": "stream",
     "text": [
      "100%|██████████| 12/12 [01:37<00:00,  8.13s/it]\n"
     ]
    },
    {
     "name": "stdout",
     "output_type": "stream",
     "text": [
      "Epoch 11 Backward Propogation Finished\n",
      "ACCURACY: 0.09965, LOSS: 1.0132789611816406e-06, TIME: 139.868745803833 sec\n",
      "Epoch 11 / 100 ends ================================================\n",
      "Epoch 12 / 100 in progress =========================================\n",
      "Epoch 12 Forward Propogation Started\n"
     ]
    },
    {
     "name": "stderr",
     "output_type": "stream",
     "text": [
      "100%|██████████| 12/12 [00:42<00:00,  3.51s/it]\n"
     ]
    },
    {
     "name": "stdout",
     "output_type": "stream",
     "text": [
      "Epoch 12 Forward Propogation Finished\n",
      "Epoch 12 Backward Propogation Started\n"
     ]
    },
    {
     "name": "stderr",
     "output_type": "stream",
     "text": [
      "100%|██████████| 12/12 [01:38<00:00,  8.20s/it]"
     ]
    },
    {
     "name": "stdout",
     "output_type": "stream",
     "text": [
      "Epoch 12 Backward Propogation Finished\n",
      "ACCURACY: 0.09965, LOSS: 1.0132789611816406e-06, TIME: 140.54413723945618 sec\n",
      "Epoch 12 / 100 ends ================================================\n",
      "Stopping early at epoch: 11\n"
     ]
    },
    {
     "name": "stderr",
     "output_type": "stream",
     "text": [
      "\n"
     ]
    }
   ],
   "source": [
    "model.train(x_train, y_train, EPOCHS)"
   ]
  },
  {
   "cell_type": "code",
   "execution_count": null,
   "metadata": {},
   "outputs": [],
   "source": []
  }
 ],
 "metadata": {
  "kernelspec": {
   "display_name": "base",
   "language": "python",
   "name": "python3"
  },
  "language_info": {
   "codemirror_mode": {
    "name": "ipython",
    "version": 3
   },
   "file_extension": ".py",
   "mimetype": "text/x-python",
   "name": "python",
   "nbconvert_exporter": "python",
   "pygments_lexer": "ipython3",
   "version": "3.9.12"
  },
  "orig_nbformat": 4
 },
 "nbformat": 4,
 "nbformat_minor": 2
}
