{
 "cells": [
  {
   "cell_type": "code",
   "execution_count": 1,
   "metadata": {},
   "outputs": [
    {
     "name": "stderr",
     "output_type": "stream",
     "text": [
      "c:\\ProgramData\\Anaconda3\\lib\\site-packages\\requests\\__init__.py:102: RequestsDependencyWarning: urllib3 (1.26.9) or chardet (5.1.0)/charset_normalizer (2.0.4) doesn't match a supported version!\n",
      "  warnings.warn(\"urllib3 ({}) or chardet ({})/charset_normalizer ({}) doesn't match a supported \"\n"
     ]
    }
   ],
   "source": [
    "import numpy as np\n",
    "\n",
    "from constants import FLOAT_DTYPE, INT_DTYPE, EPOCHS\n",
    "from Network import CNN\n",
    "from Layers import MaxPoolLayer, Conv2D, Dropout, Relu, Softmax\n",
    "from dataset import get_2D_normalised"
   ]
  },
  {
   "cell_type": "code",
   "execution_count": 2,
   "metadata": {},
   "outputs": [],
   "source": [
    "%load_ext autoreload\n",
    "%autoreload 2"
   ]
  },
  {
   "cell_type": "code",
   "execution_count": 3,
   "metadata": {},
   "outputs": [],
   "source": [
    "(train_data, train_labels), (test_data, test_labels) = get_2D_normalised()"
   ]
  },
  {
   "cell_type": "code",
   "execution_count": 4,
   "metadata": {},
   "outputs": [],
   "source": [
    "# Convert labels to one-hot encoded vectors\n",
    "num_classes = 10\n",
    "train_labels_enc = np.eye(num_classes)[train_labels].reshape(-1, num_classes)\n",
    "test_labels_enc = np.eye(num_classes)[test_labels].reshape(-1, num_classes)"
   ]
  },
  {
   "cell_type": "code",
   "execution_count": 5,
   "metadata": {},
   "outputs": [],
   "source": [
    "# Create train and validation sets\n",
    "val_split = 0.2\n",
    "num_examples = train_data.shape[0]\n",
    "val_size = int(val_split * num_examples)\n",
    "train_size = num_examples - val_size\n",
    "\n",
    "x_train = FLOAT_DTYPE(train_data[:train_size])\n",
    "y_train = INT_DTYPE(train_labels_enc[:train_size])\n",
    "x_val = FLOAT_DTYPE(train_data[train_size:])\n",
    "y_val = INT_DTYPE(test_labels_enc[train_size:])"
   ]
  },
  {
   "cell_type": "code",
   "execution_count": 6,
   "metadata": {},
   "outputs": [],
   "source": [
    "x_train = x_train.reshape(-1, 32, 32, 3)\n",
    "x_val = x_val.reshape(-1, 32, 32, 3)"
   ]
  },
  {
   "cell_type": "code",
   "execution_count": 7,
   "metadata": {},
   "outputs": [],
   "source": [
    "model = CNN()\n",
    "\n",
    "model.add(Conv2D(3, 64))\n",
    "model.add(MaxPoolLayer(2))\n",
    "model.add(Dropout(0.5))\n",
    "model.add(Relu())\n",
    "\n",
    "model.add(Conv2D(3, 128))\n",
    "model.add(MaxPoolLayer(2))\n",
    "model.add(Dropout(0.5))\n",
    "model.add(Relu())\n",
    "\n",
    "model.add(Conv2D(3, 128))\n",
    "model.add(MaxPoolLayer(2))\n",
    "model.add(Dropout(0.5))\n",
    "model.add(Softmax())"
   ]
  },
  {
   "cell_type": "code",
   "execution_count": 8,
   "metadata": {},
   "outputs": [],
   "source": [
    "model.compile(x_train.shape)"
   ]
  },
  {
   "cell_type": "code",
   "execution_count": 9,
   "metadata": {},
   "outputs": [
    {
     "name": "stdout",
     "output_type": "stream",
     "text": [
      "Epoch 1 / 100 in progress =========================================\n",
      "Epoch 1 Forward Propogation Started\n"
     ]
    },
    {
     "name": "stderr",
     "output_type": "stream",
     "text": [
      "  0%|          | 0/12 [00:00<?, ?it/s]"
     ]
    },
    {
     "name": "stdout",
     "output_type": "stream",
     "text": [
      "(40000, 32, 32, 3)\n",
      "(40000, 30, 30, 3, 3, 3)\n",
      "(3, 3, 3, 64)\n"
     ]
    },
    {
     "name": "stderr",
     "output_type": "stream",
     "text": [
      "  8%|▊         | 1/12 [03:03<33:38, 183.47s/it]"
     ]
    },
    {
     "name": "stdout",
     "output_type": "stream",
     "text": [
      "(40000, 30, 30, 64)\n"
     ]
    },
    {
     "name": "stderr",
     "output_type": "stream",
     "text": [
      " 33%|███▎      | 4/12 [04:41<09:23, 70.49s/it] "
     ]
    },
    {
     "name": "stdout",
     "output_type": "stream",
     "text": [
      "(40000, 15, 15, 64)\n",
      "(40000, 13, 13, 64, 3, 3)\n",
      "(3, 3, 3, 128)\n"
     ]
    },
    {
     "name": "stderr",
     "output_type": "stream",
     "text": [
      "\n"
     ]
    },
    {
     "ename": "ValueError",
     "evalue": "Size of label 'k' for operand 1 (64) does not match previous terms (3).",
     "output_type": "error",
     "traceback": [
      "\u001b[1;31m---------------------------------------------------------------------------\u001b[0m",
      "\u001b[1;31mValueError\u001b[0m                                Traceback (most recent call last)",
      "\u001b[1;32md:\\JioInstitute\\Quarter-4\\ComputerVision\\Assignments\\Neural_Network_Backpropogation\\Convolutional_Neural_Network.ipynb Cell 9\u001b[0m in \u001b[0;36m<cell line: 1>\u001b[1;34m()\u001b[0m\n\u001b[1;32m----> <a href='vscode-notebook-cell:/d%3A/JioInstitute/Quarter-4/ComputerVision/Assignments/Neural_Network_Backpropogation/Convolutional_Neural_Network.ipynb#X11sZmlsZQ%3D%3D?line=0'>1</a>\u001b[0m model\u001b[39m.\u001b[39;49mtrain(x_train, y_train, EPOCHS)\n",
      "File \u001b[1;32md:\\JioInstitute\\Quarter-4\\ComputerVision\\Assignments\\Neural_Network_Backpropogation\\Network\\base.py:140\u001b[0m, in \u001b[0;36mBaseNetwork.train\u001b[1;34m(self, x_train, y_train, epochs)\u001b[0m\n\u001b[0;32m    136\u001b[0m \u001b[39mprint\u001b[39m(\n\u001b[0;32m    137\u001b[0m     \u001b[39mf\u001b[39m\u001b[39m\"\u001b[39m\u001b[39mEpoch \u001b[39m\u001b[39m{\u001b[39;00mi\u001b[39m+\u001b[39m\u001b[39m1\u001b[39m\u001b[39m}\u001b[39;00m\u001b[39m / \u001b[39m\u001b[39m{\u001b[39;00mepochs\u001b[39m}\u001b[39;00m\u001b[39m in progress =========================================\u001b[39m\u001b[39m\"\u001b[39m)\n\u001b[0;32m    138\u001b[0m start_time \u001b[39m=\u001b[39m time()\n\u001b[1;32m--> 140\u001b[0m accuracy, loss \u001b[39m=\u001b[39m \u001b[39mself\u001b[39;49m\u001b[39m.\u001b[39;49m_train_batch(i, x_train, y_train)\n\u001b[0;32m    142\u001b[0m \u001b[39mself\u001b[39m\u001b[39m.\u001b[39maccuracy\u001b[39m.\u001b[39mappend(accuracy)\n\u001b[0;32m    143\u001b[0m \u001b[39mself\u001b[39m\u001b[39m.\u001b[39mloss\u001b[39m.\u001b[39mappend(loss)\n",
      "File \u001b[1;32md:\\JioInstitute\\Quarter-4\\ComputerVision\\Assignments\\Neural_Network_Backpropogation\\Network\\base.py:112\u001b[0m, in \u001b[0;36mBaseNetwork._train_batch\u001b[1;34m(self, epoch, x_batch, y_batch)\u001b[0m\n\u001b[0;32m    107\u001b[0m \u001b[39m\"\"\"\u001b[39;00m\n\u001b[0;32m    108\u001b[0m \u001b[39mTrain the model using SGD for batch\u001b[39;00m\n\u001b[0;32m    109\u001b[0m \u001b[39m\"\"\"\u001b[39;00m\n\u001b[0;32m    111\u001b[0m \u001b[39mprint\u001b[39m(\u001b[39mf\u001b[39m\u001b[39m\"\u001b[39m\u001b[39mEpoch \u001b[39m\u001b[39m{\u001b[39;00mepoch \u001b[39m+\u001b[39m \u001b[39m1\u001b[39m\u001b[39m}\u001b[39;00m\u001b[39m Forward Propogation Started\u001b[39m\u001b[39m\"\u001b[39m)\n\u001b[1;32m--> 112\u001b[0m yhat \u001b[39m=\u001b[39m \u001b[39mself\u001b[39;49m\u001b[39m.\u001b[39;49m_forwardprop(x_batch)\n\u001b[0;32m    113\u001b[0m \u001b[39mprint\u001b[39m(\u001b[39mf\u001b[39m\u001b[39m\"\u001b[39m\u001b[39mEpoch \u001b[39m\u001b[39m{\u001b[39;00mepoch \u001b[39m+\u001b[39m \u001b[39m1\u001b[39m\u001b[39m}\u001b[39;00m\u001b[39m Forward Propogation Finished\u001b[39m\u001b[39m\"\u001b[39m)\n\u001b[0;32m    115\u001b[0m \u001b[39mprint\u001b[39m(\u001b[39mf\u001b[39m\u001b[39m\"\u001b[39m\u001b[39mEpoch \u001b[39m\u001b[39m{\u001b[39;00mepoch \u001b[39m+\u001b[39m \u001b[39m1\u001b[39m\u001b[39m}\u001b[39;00m\u001b[39m Backward Propogation Started\u001b[39m\u001b[39m\"\u001b[39m)\n",
      "File \u001b[1;32md:\\JioInstitute\\Quarter-4\\ComputerVision\\Assignments\\Neural_Network_Backpropogation\\Network\\base.py:46\u001b[0m, in \u001b[0;36mBaseNetwork._forwardprop\u001b[1;34m(self, data)\u001b[0m\n\u001b[0;32m     44\u001b[0m     A_prev \u001b[39m=\u001b[39m A_curr\n\u001b[0;32m     45\u001b[0m     layer\u001b[39m.\u001b[39minput \u001b[39m=\u001b[39m A_prev\n\u001b[1;32m---> 46\u001b[0m     A_curr \u001b[39m=\u001b[39m layer\u001b[39m.\u001b[39;49mforward()\n\u001b[0;32m     47\u001b[0m \u001b[39mreturn\u001b[39;00m A_curr\n",
      "File \u001b[1;32md:\\JioInstitute\\Quarter-4\\ComputerVision\\Assignments\\Neural_Network_Backpropogation\\Layers\\convolutionlayer.py:117\u001b[0m, in \u001b[0;36mConv2d.forward\u001b[1;34m(self)\u001b[0m\n\u001b[0;32m    115\u001b[0m \u001b[39mprint\u001b[39m(\u001b[39mself\u001b[39m\u001b[39m.\u001b[39mweights\u001b[39m.\u001b[39mshape)\n\u001b[0;32m    116\u001b[0m \u001b[39m# the choice of numpy.einsum is due to reshape of self.view being a copy\u001b[39;00m\n\u001b[1;32m--> 117\u001b[0m \u001b[39mself\u001b[39m\u001b[39m.\u001b[39mz \u001b[39m=\u001b[39m np\u001b[39m.\u001b[39;49meinsum(\u001b[39m'\u001b[39;49m\u001b[39mlmnkji, kjio -> lmno\u001b[39;49m\u001b[39m'\u001b[39;49m, FLOAT_DTYPE(\u001b[39mself\u001b[39;49m\u001b[39m.\u001b[39;49mview),\n\u001b[0;32m    118\u001b[0m                    FLOAT_DTYPE(\u001b[39mself\u001b[39;49m\u001b[39m.\u001b[39;49mweights), optimize\u001b[39m=\u001b[39;49m\u001b[39m'\u001b[39;49m\u001b[39moptimal\u001b[39;49m\u001b[39m'\u001b[39;49m, dtype\u001b[39m=\u001b[39;49mFLOAT_DTYPE) \u001b[39m+\u001b[39m \u001b[39mself\u001b[39m\u001b[39m.\u001b[39mbias\n\u001b[0;32m    119\u001b[0m \u001b[39mprint\u001b[39m(\u001b[39mself\u001b[39m\u001b[39m.\u001b[39mz\u001b[39m.\u001b[39mshape)\n\u001b[0;32m    120\u001b[0m \u001b[39mreturn\u001b[39;00m \u001b[39mself\u001b[39m\u001b[39m.\u001b[39mz\n",
      "File \u001b[1;32m<__array_function__ internals>:5\u001b[0m, in \u001b[0;36meinsum\u001b[1;34m(*args, **kwargs)\u001b[0m\n",
      "File \u001b[1;32m~\\AppData\\Roaming\\Python\\Python39\\site-packages\\numpy\\core\\einsumfunc.py:1371\u001b[0m, in \u001b[0;36meinsum\u001b[1;34m(out, optimize, *operands, **kwargs)\u001b[0m\n\u001b[0;32m   1367\u001b[0m     \u001b[39mraise\u001b[39;00m \u001b[39mTypeError\u001b[39;00m(\u001b[39m\"\u001b[39m\u001b[39mDid not understand the following kwargs: \u001b[39m\u001b[39m%s\u001b[39;00m\u001b[39m\"\u001b[39m\n\u001b[0;32m   1368\u001b[0m                     \u001b[39m%\u001b[39m unknown_kwargs)\n\u001b[0;32m   1370\u001b[0m \u001b[39m# Build the contraction list and operand\u001b[39;00m\n\u001b[1;32m-> 1371\u001b[0m operands, contraction_list \u001b[39m=\u001b[39m einsum_path(\u001b[39m*\u001b[39;49moperands, optimize\u001b[39m=\u001b[39;49moptimize,\n\u001b[0;32m   1372\u001b[0m                                          einsum_call\u001b[39m=\u001b[39;49m\u001b[39mTrue\u001b[39;49;00m)\n\u001b[0;32m   1374\u001b[0m \u001b[39m# Handle order kwarg for output array, c_einsum allows mixed case\u001b[39;00m\n\u001b[0;32m   1375\u001b[0m output_order \u001b[39m=\u001b[39m kwargs\u001b[39m.\u001b[39mpop(\u001b[39m'\u001b[39m\u001b[39morder\u001b[39m\u001b[39m'\u001b[39m, \u001b[39m'\u001b[39m\u001b[39mK\u001b[39m\u001b[39m'\u001b[39m)\n",
      "File \u001b[1;32m<__array_function__ internals>:5\u001b[0m, in \u001b[0;36meinsum_path\u001b[1;34m(*args, **kwargs)\u001b[0m\n",
      "File \u001b[1;32m~\\AppData\\Roaming\\Python\\Python39\\site-packages\\numpy\\core\\einsumfunc.py:876\u001b[0m, in \u001b[0;36meinsum_path\u001b[1;34m(optimize, einsum_call, *operands)\u001b[0m\n\u001b[0;32m    874\u001b[0m         dimension_dict[char] \u001b[39m=\u001b[39m dim\n\u001b[0;32m    875\u001b[0m     \u001b[39melif\u001b[39;00m dim \u001b[39mnot\u001b[39;00m \u001b[39min\u001b[39;00m (\u001b[39m1\u001b[39m, dimension_dict[char]):\n\u001b[1;32m--> 876\u001b[0m         \u001b[39mraise\u001b[39;00m \u001b[39mValueError\u001b[39;00m(\u001b[39m\"\u001b[39m\u001b[39mSize of label \u001b[39m\u001b[39m'\u001b[39m\u001b[39m%s\u001b[39;00m\u001b[39m'\u001b[39m\u001b[39m for operand \u001b[39m\u001b[39m%d\u001b[39;00m\u001b[39m (\u001b[39m\u001b[39m%d\u001b[39;00m\u001b[39m) \u001b[39m\u001b[39m\"\u001b[39m\n\u001b[0;32m    877\u001b[0m                          \u001b[39m\"\u001b[39m\u001b[39mdoes not match previous terms (\u001b[39m\u001b[39m%d\u001b[39;00m\u001b[39m).\u001b[39m\u001b[39m\"\u001b[39m\n\u001b[0;32m    878\u001b[0m                          \u001b[39m%\u001b[39m (char, tnum, dimension_dict[char], dim))\n\u001b[0;32m    879\u001b[0m \u001b[39melse\u001b[39;00m:\n\u001b[0;32m    880\u001b[0m     dimension_dict[char] \u001b[39m=\u001b[39m dim\n",
      "\u001b[1;31mValueError\u001b[0m: Size of label 'k' for operand 1 (64) does not match previous terms (3)."
     ]
    }
   ],
   "source": [
    "model.train(x_train, y_train, EPOCHS)"
   ]
  },
  {
   "cell_type": "code",
   "execution_count": null,
   "metadata": {},
   "outputs": [],
   "source": []
  }
 ],
 "metadata": {
  "kernelspec": {
   "display_name": "base",
   "language": "python",
   "name": "python3"
  },
  "language_info": {
   "codemirror_mode": {
    "name": "ipython",
    "version": 3
   },
   "file_extension": ".py",
   "mimetype": "text/x-python",
   "name": "python",
   "nbconvert_exporter": "python",
   "pygments_lexer": "ipython3",
   "version": "3.9.12"
  },
  "orig_nbformat": 4
 },
 "nbformat": 4,
 "nbformat_minor": 2
}
