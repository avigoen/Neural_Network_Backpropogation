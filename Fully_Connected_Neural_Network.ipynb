{
 "cells": [
  {
   "cell_type": "code",
   "execution_count": 7,
   "metadata": {},
   "outputs": [],
   "source": [
    "import numpy as np\n",
    "\n",
    "from constants import FLOAT_DTYPE, INT_DTYPE, EPOCHS\n",
    "from Network import FCNN\n",
    "from Layers import BatchNorm, Dense, Dropout, Relu, Softmax\n",
    "from dataset import get_2D_normalised"
   ]
  },
  {
   "cell_type": "code",
   "execution_count": 3,
   "metadata": {},
   "outputs": [],
   "source": [
    "%load_ext autoreload\n",
    "%autoreload 2"
   ]
  },
  {
   "cell_type": "code",
   "execution_count": 4,
   "metadata": {},
   "outputs": [],
   "source": [
    "(train_data, train_labels), (test_data, test_labels) = get_2D_normalised()"
   ]
  },
  {
   "cell_type": "code",
   "execution_count": 5,
   "metadata": {},
   "outputs": [],
   "source": [
    "# Convert labels to one-hot encoded vectors\n",
    "num_classes = 10\n",
    "train_labels_enc = np.eye(num_classes)[train_labels].reshape(-1, num_classes)\n",
    "test_labels_enc = np.eye(num_classes)[test_labels].reshape(-1, num_classes)"
   ]
  },
  {
   "cell_type": "code",
   "execution_count": 6,
   "metadata": {},
   "outputs": [],
   "source": [
    "# Create train and validation sets\n",
    "val_split = 0.2\n",
    "num_examples = train_data.shape[0]\n",
    "val_size = int(val_split * num_examples)\n",
    "train_size = num_examples - val_size\n",
    "\n",
    "x_train = FLOAT_DTYPE(train_data[:train_size])\n",
    "y_train = INT_DTYPE(train_labels_enc[:train_size])\n",
    "x_val = FLOAT_DTYPE(train_data[train_size:])\n",
    "y_val = INT_DTYPE(test_labels_enc[train_size:])"
   ]
  },
  {
   "cell_type": "code",
   "execution_count": 13,
   "metadata": {},
   "outputs": [],
   "source": [
    "model = FCNN()\n",
    "\n",
    "model.add(Dense(128))\n",
    "model.add(BatchNorm())\n",
    "model.add(Dropout(0.5))\n",
    "model.add(Relu())\n",
    "\n",
    "model.add(Dense(64))\n",
    "model.add(BatchNorm())\n",
    "model.add(Dropout(0.5))\n",
    "model.add(Relu())\n",
    "\n",
    "model.add(Dense(y_train.shape[1]))\n",
    "model.add(BatchNorm())\n",
    "model.add(Dropout(0.5))\n",
    "model.add(Softmax())"
   ]
  },
  {
   "cell_type": "code",
   "execution_count": 14,
   "metadata": {},
   "outputs": [],
   "source": [
    "model.compile(x_train.shape)"
   ]
  },
  {
   "cell_type": "code",
   "execution_count": 15,
   "metadata": {},
   "outputs": [
    {
     "name": "stdout",
     "output_type": "stream",
     "text": [
      "Epoch 1 / 100 in progress =========================================\n",
      "Epoch 1 Forward Propogation Started\n"
     ]
    },
    {
     "name": "stderr",
     "output_type": "stream",
     "text": [
      "100%|██████████| 12/12 [01:01<00:00,  5.09s/it]\n"
     ]
    },
    {
     "name": "stdout",
     "output_type": "stream",
     "text": [
      "Epoch 1 Forward Propogation Finished\n",
      "Epoch 1 Backward Propogation Started\n"
     ]
    },
    {
     "name": "stderr",
     "output_type": "stream",
     "text": [
      "  0%|          | 0/12 [00:00<?, ?it/s]C:\\Users\\avina\\AppData\\Roaming\\Python\\Python39\\site-packages\\numpy\\core\\fromnumeric.py:86: RuntimeWarning: overflow encountered in reduce\n",
      "  return ufunc.reduce(obj, axis, dtype, out, **passkwargs)\n",
      "C:\\Users\\avina\\AppData\\Roaming\\Python\\Python39\\site-packages\\numpy\\core\\fromnumeric.py:86: RuntimeWarning: invalid value encountered in reduce\n",
      "  return ufunc.reduce(obj, axis, dtype, out, **passkwargs)\n",
      "100%|██████████| 12/12 [02:21<00:00, 11.82s/it]\n",
      "d:\\JioInstitute\\Quarter-4\\ComputerVision\\Assignments\\Neural_Network_Backpropogation\\Network\\base.py:100: RuntimeWarning: divide by zero encountered in log\n",
      "  correct_logprobs = -np.log(predicted_one_hot + EPSILON)\n",
      "d:\\JioInstitute\\Quarter-4\\ComputerVision\\Assignments\\Neural_Network_Backpropogation\\Network\\base.py:100: RuntimeWarning: invalid value encountered in log\n",
      "  correct_logprobs = -np.log(predicted_one_hot + EPSILON)\n"
     ]
    },
    {
     "name": "stdout",
     "output_type": "stream",
     "text": [
      "Epoch 1 Backward Propogation Finished\n",
      "ACCURACY: 0.0988, LOSS: 4.13671875, TIME: 203.13384771347046 sec\n",
      "Epoch 1 / 100 ends ================================================\n",
      "Epoch 2 / 100 in progress =========================================\n",
      "Epoch 2 Forward Propogation Started\n"
     ]
    },
    {
     "name": "stderr",
     "output_type": "stream",
     "text": [
      "  0%|          | 0/12 [00:00<?, ?it/s]d:\\JioInstitute\\Quarter-4\\ComputerVision\\Assignments\\Neural_Network_Backpropogation\\Layers\\denselayer.py:16: RuntimeWarning: invalid value encountered in add\n",
      "  Z_curr = dot_product_batches(self.input, self.weights) + self.bias\n",
      "100%|██████████| 12/12 [01:22<00:00,  6.86s/it]\n"
     ]
    },
    {
     "name": "stdout",
     "output_type": "stream",
     "text": [
      "Epoch 2 Forward Propogation Finished\n",
      "Epoch 2 Backward Propogation Started\n"
     ]
    },
    {
     "name": "stderr",
     "output_type": "stream",
     "text": [
      "100%|██████████| 12/12 [02:57<00:00, 14.82s/it]\n"
     ]
    },
    {
     "name": "stdout",
     "output_type": "stream",
     "text": [
      "Epoch 2 Backward Propogation Finished\n",
      "ACCURACY: 0.09965, LOSS: 1.0132789611816406e-06, TIME: 260.2886950969696 sec\n",
      "Epoch 2 / 100 ends ================================================\n",
      "Epoch 3 / 100 in progress =========================================\n",
      "Epoch 3 Forward Propogation Started\n"
     ]
    },
    {
     "name": "stderr",
     "output_type": "stream",
     "text": [
      "100%|██████████| 12/12 [01:18<00:00,  6.56s/it]\n"
     ]
    },
    {
     "name": "stdout",
     "output_type": "stream",
     "text": [
      "Epoch 3 Forward Propogation Finished\n",
      "Epoch 3 Backward Propogation Started\n"
     ]
    },
    {
     "name": "stderr",
     "output_type": "stream",
     "text": [
      "100%|██████████| 12/12 [02:54<00:00, 14.58s/it]\n"
     ]
    },
    {
     "name": "stdout",
     "output_type": "stream",
     "text": [
      "Epoch 3 Backward Propogation Finished\n",
      "ACCURACY: 0.09965, LOSS: 1.0132789611816406e-06, TIME: 253.8074746131897 sec\n",
      "Epoch 3 / 100 ends ================================================\n",
      "Epoch 4 / 100 in progress =========================================\n",
      "Epoch 4 Forward Propogation Started\n"
     ]
    },
    {
     "name": "stderr",
     "output_type": "stream",
     "text": [
      "100%|██████████| 12/12 [01:14<00:00,  6.24s/it]\n"
     ]
    },
    {
     "name": "stdout",
     "output_type": "stream",
     "text": [
      "Epoch 4 Forward Propogation Finished\n",
      "Epoch 4 Backward Propogation Started\n"
     ]
    },
    {
     "name": "stderr",
     "output_type": "stream",
     "text": [
      "100%|██████████| 12/12 [02:53<00:00, 14.46s/it]\n"
     ]
    },
    {
     "name": "stdout",
     "output_type": "stream",
     "text": [
      "Epoch 4 Backward Propogation Finished\n",
      "ACCURACY: 0.09965, LOSS: 1.0132789611816406e-06, TIME: 248.58817172050476 sec\n",
      "Epoch 4 / 100 ends ================================================\n",
      "Epoch 5 / 100 in progress =========================================\n",
      "Epoch 5 Forward Propogation Started\n"
     ]
    },
    {
     "name": "stderr",
     "output_type": "stream",
     "text": [
      "100%|██████████| 12/12 [01:16<00:00,  6.38s/it]\n"
     ]
    },
    {
     "name": "stdout",
     "output_type": "stream",
     "text": [
      "Epoch 5 Forward Propogation Finished\n",
      "Epoch 5 Backward Propogation Started\n"
     ]
    },
    {
     "name": "stderr",
     "output_type": "stream",
     "text": [
      "100%|██████████| 12/12 [02:47<00:00, 13.93s/it]\n"
     ]
    },
    {
     "name": "stdout",
     "output_type": "stream",
     "text": [
      "Epoch 5 Backward Propogation Finished\n",
      "ACCURACY: 0.09965, LOSS: 1.0132789611816406e-06, TIME: 243.79497694969177 sec\n",
      "Epoch 5 / 100 ends ================================================\n",
      "Epoch 6 / 100 in progress =========================================\n",
      "Epoch 6 Forward Propogation Started\n"
     ]
    },
    {
     "name": "stderr",
     "output_type": "stream",
     "text": [
      "100%|██████████| 12/12 [01:17<00:00,  6.43s/it]\n"
     ]
    },
    {
     "name": "stdout",
     "output_type": "stream",
     "text": [
      "Epoch 6 Forward Propogation Finished\n",
      "Epoch 6 Backward Propogation Started\n"
     ]
    },
    {
     "name": "stderr",
     "output_type": "stream",
     "text": [
      "100%|██████████| 12/12 [06:06<00:00, 30.54s/it]\n"
     ]
    },
    {
     "name": "stdout",
     "output_type": "stream",
     "text": [
      "Epoch 6 Backward Propogation Finished\n",
      "ACCURACY: 0.09965, LOSS: 1.0132789611816406e-06, TIME: 444.06067419052124 sec\n",
      "Epoch 6 / 100 ends ================================================\n",
      "Epoch 7 / 100 in progress =========================================\n",
      "Epoch 7 Forward Propogation Started\n"
     ]
    },
    {
     "name": "stderr",
     "output_type": "stream",
     "text": [
      "100%|██████████| 12/12 [03:38<00:00, 18.23s/it]\n"
     ]
    },
    {
     "name": "stdout",
     "output_type": "stream",
     "text": [
      "Epoch 7 Forward Propogation Finished\n",
      "Epoch 7 Backward Propogation Started\n"
     ]
    },
    {
     "name": "stderr",
     "output_type": "stream",
     "text": [
      "100%|██████████| 12/12 [07:19<00:00, 36.59s/it] \n"
     ]
    },
    {
     "name": "stdout",
     "output_type": "stream",
     "text": [
      "Epoch 7 Backward Propogation Finished\n",
      "ACCURACY: 0.09965, LOSS: 1.0132789611816406e-06, TIME: 658.4316692352295 sec\n",
      "Epoch 7 / 100 ends ================================================\n",
      "Epoch 8 / 100 in progress =========================================\n",
      "Epoch 8 Forward Propogation Started\n"
     ]
    },
    {
     "name": "stderr",
     "output_type": "stream",
     "text": [
      "100%|██████████| 12/12 [02:42<00:00, 13.57s/it]\n"
     ]
    },
    {
     "name": "stdout",
     "output_type": "stream",
     "text": [
      "Epoch 8 Forward Propogation Finished\n",
      "Epoch 8 Backward Propogation Started\n"
     ]
    },
    {
     "name": "stderr",
     "output_type": "stream",
     "text": [
      "100%|██████████| 12/12 [06:04<00:00, 30.38s/it]\n"
     ]
    },
    {
     "name": "stdout",
     "output_type": "stream",
     "text": [
      "Epoch 8 Backward Propogation Finished\n",
      "ACCURACY: 0.09965, LOSS: 1.0132789611816406e-06, TIME: 527.5521638393402 sec\n",
      "Epoch 8 / 100 ends ================================================\n",
      "Epoch 9 / 100 in progress =========================================\n",
      "Epoch 9 Forward Propogation Started\n"
     ]
    },
    {
     "name": "stderr",
     "output_type": "stream",
     "text": [
      "100%|██████████| 12/12 [01:20<00:00,  6.71s/it]\n"
     ]
    },
    {
     "name": "stdout",
     "output_type": "stream",
     "text": [
      "Epoch 9 Forward Propogation Finished\n",
      "Epoch 9 Backward Propogation Started\n"
     ]
    },
    {
     "name": "stderr",
     "output_type": "stream",
     "text": [
      "100%|██████████| 12/12 [04:40<00:00, 23.41s/it]\n"
     ]
    },
    {
     "name": "stdout",
     "output_type": "stream",
     "text": [
      "Epoch 9 Backward Propogation Finished\n",
      "ACCURACY: 0.09965, LOSS: 1.0132789611816406e-06, TIME: 361.7379138469696 sec\n",
      "Epoch 9 / 100 ends ================================================\n",
      "Epoch 10 / 100 in progress =========================================\n",
      "Epoch 10 Forward Propogation Started\n"
     ]
    },
    {
     "name": "stderr",
     "output_type": "stream",
     "text": [
      "100%|██████████| 12/12 [01:25<00:00,  7.14s/it]\n"
     ]
    },
    {
     "name": "stdout",
     "output_type": "stream",
     "text": [
      "Epoch 10 Forward Propogation Finished\n",
      "Epoch 10 Backward Propogation Started\n"
     ]
    },
    {
     "name": "stderr",
     "output_type": "stream",
     "text": [
      "100%|██████████| 12/12 [02:07<00:00, 10.62s/it]\n"
     ]
    },
    {
     "name": "stdout",
     "output_type": "stream",
     "text": [
      "Epoch 10 Backward Propogation Finished\n",
      "ACCURACY: 0.09965, LOSS: 1.0132789611816406e-06, TIME: 213.2416868209839 sec\n",
      "Epoch 10 / 100 ends ================================================\n",
      "Epoch 11 / 100 in progress =========================================\n",
      "Epoch 11 Forward Propogation Started\n"
     ]
    },
    {
     "name": "stderr",
     "output_type": "stream",
     "text": [
      "100%|██████████| 12/12 [00:58<00:00,  4.90s/it]\n"
     ]
    },
    {
     "name": "stdout",
     "output_type": "stream",
     "text": [
      "Epoch 11 Forward Propogation Finished\n",
      "Epoch 11 Backward Propogation Started\n"
     ]
    },
    {
     "name": "stderr",
     "output_type": "stream",
     "text": [
      "100%|██████████| 12/12 [01:47<00:00,  8.92s/it]\n"
     ]
    },
    {
     "name": "stdout",
     "output_type": "stream",
     "text": [
      "Epoch 11 Backward Propogation Finished\n",
      "ACCURACY: 0.09965, LOSS: 1.0132789611816406e-06, TIME: 165.93324637413025 sec\n",
      "Epoch 11 / 100 ends ================================================\n",
      "Epoch 12 / 100 in progress =========================================\n",
      "Epoch 12 Forward Propogation Started\n"
     ]
    },
    {
     "name": "stderr",
     "output_type": "stream",
     "text": [
      "100%|██████████| 12/12 [00:41<00:00,  3.44s/it]\n"
     ]
    },
    {
     "name": "stdout",
     "output_type": "stream",
     "text": [
      "Epoch 12 Forward Propogation Finished\n",
      "Epoch 12 Backward Propogation Started\n"
     ]
    },
    {
     "name": "stderr",
     "output_type": "stream",
     "text": [
      "100%|██████████| 12/12 [01:33<00:00,  7.79s/it]"
     ]
    },
    {
     "name": "stdout",
     "output_type": "stream",
     "text": [
      "Epoch 12 Backward Propogation Finished\n",
      "ACCURACY: 0.09965, LOSS: 1.0132789611816406e-06, TIME: 134.82594871520996 sec\n",
      "Epoch 12 / 100 ends ================================================\n",
      "Stopping early at epoch: 11\n"
     ]
    },
    {
     "name": "stderr",
     "output_type": "stream",
     "text": [
      "\n"
     ]
    }
   ],
   "source": [
    "model.train(x_train, y_train, EPOCHS)"
   ]
  },
  {
   "cell_type": "code",
   "execution_count": null,
   "metadata": {},
   "outputs": [],
   "source": []
  }
 ],
 "metadata": {
  "kernelspec": {
   "display_name": "base",
   "language": "python",
   "name": "python3"
  },
  "language_info": {
   "codemirror_mode": {
    "name": "ipython",
    "version": 3
   },
   "file_extension": ".py",
   "mimetype": "text/x-python",
   "name": "python",
   "nbconvert_exporter": "python",
   "pygments_lexer": "ipython3",
   "version": "3.9.12"
  },
  "orig_nbformat": 4
 },
 "nbformat": 4,
 "nbformat_minor": 2
}
